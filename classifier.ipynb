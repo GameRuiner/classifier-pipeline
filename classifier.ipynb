{
 "cells": [
  {
   "cell_type": "code",
   "execution_count": 1,
   "metadata": {},
   "outputs": [],
   "source": [
    "import pandas as pd\n",
    "import numpy as np\n",
    "from sklearn.compose import ColumnTransformer\n",
    "from sklearn.pipeline import Pipeline\n",
    "from sklearn.impute import SimpleImputer\n",
    "from sklearn.preprocessing import OneHotEncoder\n",
    "from sklearn.feature_extraction.text import TfidfVectorizer\n",
    "from sklearn.linear_model import LogisticRegression\n",
    "from sklearn.model_selection import cross_val_score"
   ]
  },
  {
   "cell_type": "code",
   "execution_count": 2,
   "metadata": {},
   "outputs": [],
   "source": [
    "from sklearn.base import BaseEstimator, TransformerMixin\n",
    "\n",
    "class FeatureMerger(BaseEstimator, TransformerMixin):\n",
    "  def fit(self, X, y=None):\n",
    "    return self\n",
    "  \n",
    "  def transform(self, X):\n",
    "    df = pd.DataFrame()\n",
    "    df['result'] = X.apply(lambda row: ' '.join(row.values.astype(str)), axis=1)\n",
    "    return df['result']"
   ]
  },
  {
   "cell_type": "code",
   "execution_count": 3,
   "metadata": {},
   "outputs": [],
   "source": [
    "numerical_transformer = SimpleImputer(strategy='median')\n",
    "\n",
    "categorical_transformer = Pipeline(steps=[\n",
    "    ('imputer', SimpleImputer(strategy='most_frequent')),\n",
    "    ('onehot', OneHotEncoder(handle_unknown='ignore'))\n",
    "])\n",
    "\n",
    "vectorized_transformer = Pipeline(steps=[\n",
    "  ('merge', FeatureMerger()),\n",
    "  ('vectorize', TfidfVectorizer(max_features=2000))\n",
    "])"
   ]
  },
  {
   "cell_type": "code",
   "execution_count": 4,
   "metadata": {},
   "outputs": [],
   "source": [
    "# TODO: try another model\n",
    "model = LogisticRegression(max_iter=1000)"
   ]
  },
  {
   "cell_type": "code",
   "execution_count": 32,
   "metadata": {},
   "outputs": [],
   "source": [
    "def process_data(df, target_column, cv=5):\n",
    "  y = df[target_column]\n",
    "  X = df.drop([target_column], axis=1)\n",
    "  categorical_cols = [cname for cname in X.columns if X[cname].nunique() < 10 and  X[cname].dtype == \"object\"]\n",
    "  vectorized_cols = [cname for cname in X.columns if X[cname].nunique() >= 10 and  X[cname].dtype == \"object\"]\n",
    "  numerical_cols = [cname for cname in X.columns if X[cname].dtype in ['int64', 'float64']]\n",
    "  preprocessor = ColumnTransformer(\n",
    "    transformers=[\n",
    "        ('num', numerical_transformer, numerical_cols),\n",
    "        ('cat', categorical_transformer, categorical_cols),\n",
    "        ('vect', vectorized_transformer, vectorized_cols)\n",
    "    ])\n",
    "  my_pipeline = Pipeline(steps=[('preprocessor', preprocessor),\n",
    "                              ('model', model)\n",
    "                             ])\n",
    "  return cross_val_score(my_pipeline, X, y, cv=cv, scoring='accuracy').mean()\n"
   ]
  },
  {
   "cell_type": "code",
   "execution_count": 6,
   "metadata": {},
   "outputs": [
    {
     "name": "stdout",
     "output_type": "stream",
     "text": [
      "Average accuracy: 0.5925823680812077\n"
     ]
    }
   ],
   "source": [
    "news = pd.read_csv('News.csv')\n",
    "print(\"Average accuracy:\", process_data(news, 'category', cv=3))"
   ]
  },
  {
   "cell_type": "code",
   "execution_count": 10,
   "metadata": {},
   "outputs": [
    {
     "name": "stdout",
     "output_type": "stream",
     "text": [
      "Average accuracy: 0.7084084947764306\n"
     ]
    }
   ],
   "source": [
    "tortilla = pd.read_csv('tortilla_prices.csv')\n",
    "print(\"Average accuracy:\", process_data(tortilla, 'Store type'))"
   ]
  },
  {
   "cell_type": "code",
   "execution_count": 31,
   "metadata": {},
   "outputs": [
    {
     "name": "stdout",
     "output_type": "stream",
     "text": [
      "['Gender', 'Ever_Married', 'Graduated', 'Profession', 'Spending_Score', 'Var_1'] ['Age', 'Work_Experience', 'Family_Size']\n",
      "Average accuracy: 0.4670406732117812\n"
     ]
    }
   ],
   "source": [
    "customers1 = pd.read_csv('Train.csv', index_col='ID')\n",
    "customers2 = pd.read_csv('Test.csv', index_col='ID')\n",
    "customers = pd.concat([customers1, customers2])\n",
    "print(\"Average accuracy:\", process_data(customers, 'Segmentation'))"
   ]
  }
 ],
 "metadata": {
  "kernelspec": {
   "display_name": "Python 3",
   "language": "python",
   "name": "python3"
  },
  "language_info": {
   "codemirror_mode": {
    "name": "ipython",
    "version": 3
   },
   "file_extension": ".py",
   "mimetype": "text/x-python",
   "name": "python",
   "nbconvert_exporter": "python",
   "pygments_lexer": "ipython3",
   "version": "3.11.2"
  }
 },
 "nbformat": 4,
 "nbformat_minor": 2
}
