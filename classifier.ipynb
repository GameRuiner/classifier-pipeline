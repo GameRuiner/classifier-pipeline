{
 "cells": [
  {
   "cell_type": "code",
   "execution_count": 26,
   "metadata": {},
   "outputs": [],
   "source": [
    "import pandas as pd\n",
    "import numpy as np\n",
    "from sklearn.compose import ColumnTransformer\n",
    "from sklearn.pipeline import Pipeline\n",
    "from sklearn.impute import SimpleImputer\n",
    "from sklearn.preprocessing import OneHotEncoder\n",
    "from sklearn.feature_extraction.text import TfidfVectorizer\n",
    "from sklearn.linear_model import LogisticRegression\n",
    "from sklearn.model_selection import cross_val_score"
   ]
  },
  {
   "cell_type": "markdown",
   "metadata": {},
   "source": [
    "Run one of the cells reading dataset below. Model will adjust automatically."
   ]
  },
  {
   "cell_type": "code",
   "execution_count": 63,
   "metadata": {},
   "outputs": [
    {
     "data": {
      "text/html": [
       "<div>\n",
       "<style scoped>\n",
       "    .dataframe tbody tr th:only-of-type {\n",
       "        vertical-align: middle;\n",
       "    }\n",
       "\n",
       "    .dataframe tbody tr th {\n",
       "        vertical-align: top;\n",
       "    }\n",
       "\n",
       "    .dataframe thead th {\n",
       "        text-align: right;\n",
       "    }\n",
       "</style>\n",
       "<table border=\"1\" class=\"dataframe\">\n",
       "  <thead>\n",
       "    <tr style=\"text-align: right;\">\n",
       "      <th></th>\n",
       "      <th>headline</th>\n",
       "      <th>category</th>\n",
       "      <th>authors</th>\n",
       "      <th>short_description</th>\n",
       "    </tr>\n",
       "  </thead>\n",
       "  <tbody>\n",
       "    <tr>\n",
       "      <th>0</th>\n",
       "      <td>There Were 2 Mass Shootings In Texas Last Wee...</td>\n",
       "      <td>CRIME</td>\n",
       "      <td>Melissa Jeltsen</td>\n",
       "      <td>She left her husband. He killed their childre...</td>\n",
       "    </tr>\n",
       "    <tr>\n",
       "      <th>1</th>\n",
       "      <td>Will Smith Joins Diplo And Nicky Jam For The ...</td>\n",
       "      <td>ENTERTAINMENT</td>\n",
       "      <td>Andy McDonald</td>\n",
       "      <td>Of course it has a song.</td>\n",
       "    </tr>\n",
       "    <tr>\n",
       "      <th>2</th>\n",
       "      <td>Hugh Grant Marries For The First Time At Age ...</td>\n",
       "      <td>ENTERTAINMENT</td>\n",
       "      <td>Ron Dicker</td>\n",
       "      <td>The actor and his longtime girlfriend Anna Eb...</td>\n",
       "    </tr>\n",
       "    <tr>\n",
       "      <th>3</th>\n",
       "      <td>Jim Carrey Blasts 'Castrato' Adam Schiff And ...</td>\n",
       "      <td>ENTERTAINMENT</td>\n",
       "      <td>Ron Dicker</td>\n",
       "      <td>The actor gives Dems an ass-kicking for not f...</td>\n",
       "    </tr>\n",
       "    <tr>\n",
       "      <th>4</th>\n",
       "      <td>Julianna Margulies Uses Donald Trump Poop Bag...</td>\n",
       "      <td>ENTERTAINMENT</td>\n",
       "      <td>Ron Dicker</td>\n",
       "      <td>The Dietland actress said using the bags is a...</td>\n",
       "    </tr>\n",
       "  </tbody>\n",
       "</table>\n",
       "</div>"
      ],
      "text/plain": [
       "                                            headline          category  \\\n",
       "0   There Were 2 Mass Shootings In Texas Last Wee...           CRIME     \n",
       "1   Will Smith Joins Diplo And Nicky Jam For The ...   ENTERTAINMENT     \n",
       "2   Hugh Grant Marries For The First Time At Age ...   ENTERTAINMENT     \n",
       "3   Jim Carrey Blasts 'Castrato' Adam Schiff And ...   ENTERTAINMENT     \n",
       "4   Julianna Margulies Uses Donald Trump Poop Bag...   ENTERTAINMENT     \n",
       "\n",
       "              authors                                  short_description  \n",
       "0   Melissa Jeltsen     She left her husband. He killed their childre...  \n",
       "1     Andy McDonald                            Of course it has a song.   \n",
       "2        Ron Dicker     The actor and his longtime girlfriend Anna Eb...  \n",
       "3        Ron Dicker     The actor gives Dems an ass-kicking for not f...  \n",
       "4        Ron Dicker     The Dietland actress said using the bags is a...  "
      ]
     },
     "execution_count": 63,
     "metadata": {},
     "output_type": "execute_result"
    }
   ],
   "source": [
    "news = pd.read_csv('News.csv')\n",
    "y = news.category\n",
    "X = news.drop(['category'], axis=1)\n",
    "news.head()"
   ]
  },
  {
   "cell_type": "code",
   "execution_count": 29,
   "metadata": {},
   "outputs": [
    {
     "data": {
      "text/html": [
       "<div>\n",
       "<style scoped>\n",
       "    .dataframe tbody tr th:only-of-type {\n",
       "        vertical-align: middle;\n",
       "    }\n",
       "\n",
       "    .dataframe tbody tr th {\n",
       "        vertical-align: top;\n",
       "    }\n",
       "\n",
       "    .dataframe thead th {\n",
       "        text-align: right;\n",
       "    }\n",
       "</style>\n",
       "<table border=\"1\" class=\"dataframe\">\n",
       "  <thead>\n",
       "    <tr style=\"text-align: right;\">\n",
       "      <th></th>\n",
       "      <th>State</th>\n",
       "      <th>City</th>\n",
       "      <th>Year</th>\n",
       "      <th>Month</th>\n",
       "      <th>Day</th>\n",
       "      <th>Store type</th>\n",
       "      <th>Price per kilogram</th>\n",
       "    </tr>\n",
       "  </thead>\n",
       "  <tbody>\n",
       "    <tr>\n",
       "      <th>0</th>\n",
       "      <td>Aguascalientes</td>\n",
       "      <td>Aguascalientes</td>\n",
       "      <td>2007</td>\n",
       "      <td>1</td>\n",
       "      <td>10</td>\n",
       "      <td>Mom and Pop Store</td>\n",
       "      <td>9.9</td>\n",
       "    </tr>\n",
       "    <tr>\n",
       "      <th>1</th>\n",
       "      <td>Baja California</td>\n",
       "      <td>Mexicali</td>\n",
       "      <td>2007</td>\n",
       "      <td>1</td>\n",
       "      <td>10</td>\n",
       "      <td>Mom and Pop Store</td>\n",
       "      <td>NaN</td>\n",
       "    </tr>\n",
       "    <tr>\n",
       "      <th>2</th>\n",
       "      <td>Baja California</td>\n",
       "      <td>Tijuana</td>\n",
       "      <td>2007</td>\n",
       "      <td>1</td>\n",
       "      <td>10</td>\n",
       "      <td>Mom and Pop Store</td>\n",
       "      <td>10.0</td>\n",
       "    </tr>\n",
       "    <tr>\n",
       "      <th>3</th>\n",
       "      <td>Baja California Sur</td>\n",
       "      <td>La Paz</td>\n",
       "      <td>2007</td>\n",
       "      <td>1</td>\n",
       "      <td>10</td>\n",
       "      <td>Mom and Pop Store</td>\n",
       "      <td>10.0</td>\n",
       "    </tr>\n",
       "    <tr>\n",
       "      <th>4</th>\n",
       "      <td>Campeche</td>\n",
       "      <td>Campeche</td>\n",
       "      <td>2007</td>\n",
       "      <td>1</td>\n",
       "      <td>10</td>\n",
       "      <td>Mom and Pop Store</td>\n",
       "      <td>10.0</td>\n",
       "    </tr>\n",
       "  </tbody>\n",
       "</table>\n",
       "</div>"
      ],
      "text/plain": [
       "                 State            City  Year  Month  Day         Store type  \\\n",
       "0       Aguascalientes  Aguascalientes  2007      1   10  Mom and Pop Store   \n",
       "1      Baja California        Mexicali  2007      1   10  Mom and Pop Store   \n",
       "2      Baja California         Tijuana  2007      1   10  Mom and Pop Store   \n",
       "3  Baja California Sur          La Paz  2007      1   10  Mom and Pop Store   \n",
       "4             Campeche        Campeche  2007      1   10  Mom and Pop Store   \n",
       "\n",
       "   Price per kilogram  \n",
       "0                 9.9  \n",
       "1                 NaN  \n",
       "2                10.0  \n",
       "3                10.0  \n",
       "4                10.0  "
      ]
     },
     "execution_count": 29,
     "metadata": {},
     "output_type": "execute_result"
    }
   ],
   "source": [
    "tortilla = pd.read_csv('tortilla_prices.csv')\n",
    "y = tortilla['Store type']\n",
    "X = tortilla.drop(['Store type'], axis=1)\n",
    "tortilla.head()"
   ]
  },
  {
   "cell_type": "code",
   "execution_count": 30,
   "metadata": {},
   "outputs": [],
   "source": [
    "categorical_cols = [cname for cname in X.columns if X[cname].nunique() < 10 and  X[cname].dtype == \"object\"]\n",
    "vectorized_cols = [cname for cname in X.columns if X[cname].nunique() >= 10 and  X[cname].dtype == \"object\"]\n",
    "numerical_cols = [cname for cname in X.columns if X[cname].dtype in ['int64', 'float64']]"
   ]
  },
  {
   "cell_type": "code",
   "execution_count": 31,
   "metadata": {},
   "outputs": [],
   "source": [
    "from sklearn.base import BaseEstimator, TransformerMixin\n",
    "\n",
    "class FeatureMerger(BaseEstimator, TransformerMixin):\n",
    "  def fit(self, X, y=None):\n",
    "    return self\n",
    "  \n",
    "  def transform(self, X):\n",
    "    df = pd.DataFrame()\n",
    "    df['result'] = X.apply(lambda row: ' '.join(row.values.astype(str)), axis=1)\n",
    "    return df['result']"
   ]
  },
  {
   "cell_type": "code",
   "execution_count": 32,
   "metadata": {},
   "outputs": [],
   "source": [
    "numerical_transformer = SimpleImputer(strategy='median')\n",
    "\n",
    "categorical_transformer = Pipeline(steps=[\n",
    "    ('imputer', SimpleImputer(strategy='most_frequent')),\n",
    "    ('onehot', OneHotEncoder(handle_unknown='ignore'))\n",
    "])\n",
    "\n",
    "vectorized_transformer = Pipeline(steps=[\n",
    "  ('merge', FeatureMerger()),\n",
    "  ('vectorize', TfidfVectorizer(max_features=2000))\n",
    "]) \n",
    "\n",
    "preprocessor = ColumnTransformer(\n",
    "    transformers=[\n",
    "        ('num', numerical_transformer, numerical_cols),\n",
    "        ('cat', categorical_transformer, categorical_cols),\n",
    "        ('vect', vectorized_transformer, vectorized_cols)\n",
    "    ])"
   ]
  },
  {
   "cell_type": "code",
   "execution_count": 33,
   "metadata": {},
   "outputs": [],
   "source": [
    "# TODO: try another model\n",
    "model = LogisticRegression(max_iter=1000)"
   ]
  },
  {
   "cell_type": "code",
   "execution_count": 34,
   "metadata": {},
   "outputs": [
    {
     "name": "stdout",
     "output_type": "stream",
     "text": [
      "Average accuracy: 0.7084084947764306\n"
     ]
    }
   ],
   "source": [
    "my_pipeline = Pipeline(steps=[('preprocessor', preprocessor),\n",
    "                              ('model', model)\n",
    "                             ])\n",
    "\n",
    "accuracy = cross_val_score(my_pipeline, X, y, cv=5, scoring='accuracy')\n",
    "\n",
    "print(\"Average accuracy:\", accuracy.mean())"
   ]
  }
 ],
 "metadata": {
  "kernelspec": {
   "display_name": "Python 3",
   "language": "python",
   "name": "python3"
  },
  "language_info": {
   "codemirror_mode": {
    "name": "ipython",
    "version": 3
   },
   "file_extension": ".py",
   "mimetype": "text/x-python",
   "name": "python",
   "nbconvert_exporter": "python",
   "pygments_lexer": "ipython3",
   "version": "3.11.2"
  }
 },
 "nbformat": 4,
 "nbformat_minor": 2
}
